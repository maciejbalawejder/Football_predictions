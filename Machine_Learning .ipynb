{
 "cells": [
  {
   "cell_type": "markdown",
   "metadata": {},
   "source": [
    "# LIBRARIES"
   ]
  },
  {
   "cell_type": "code",
   "execution_count": 192,
   "metadata": {},
   "outputs": [],
   "source": [
    "from csv import reader \n",
    "import pandas as pd \n",
    "import numpy as np\n",
    "from sklearn.datasets import make_classification \n",
    "from sklearn.linear_model import LogisticRegression\n",
    "from sklearn.model_selection import train_test_split\n",
    "from sklearn.metrics import confusion_matrix\n",
    "from sklearn import preprocessing"
   ]
  },
  {
   "cell_type": "markdown",
   "metadata": {},
   "source": [
    "# EXPORTING DATA"
   ]
  },
  {
   "cell_type": "code",
   "execution_count": 193,
   "metadata": {},
   "outputs": [],
   "source": [
    "def imfile(name) : \n",
    "    file = pd.read_csv(r'C:\\Users\\macie\\Documents\\BPL\\{}.csv'.format(name))\n",
    "    file = file[['HomeTeam', 'AwayTeam', 'FTHG', 'FTAG', 'FTR', 'HS', 'AS', 'HST', 'AST', 'HY', 'AY', 'HR','AR','B365H','B365A','B365D']]\n",
    "    return file"
   ]
  },
  {
   "cell_type": "code",
   "execution_count": 194,
   "metadata": {},
   "outputs": [],
   "source": [
    "def flat(array) : \n",
    "    l = len(array)\n",
    "    new = np.zeros((l,1))\n",
    "    i = 0\n",
    "    for element in array : \n",
    "        new[i,0] = element\n",
    "        i = i + 1\n",
    "    return new"
   ]
  },
  {
   "cell_type": "code",
   "execution_count": 195,
   "metadata": {
    "scrolled": false
   },
   "outputs": [],
   "source": [
    "files = ['I18','I17','I16','I15','I14','I13','I12','I11','I10','I9','I8','I7','I6','I5','B19','B18','B17','B16','B15','B14','B13','B12','B11','B10','B9','B8','B7','B6','S19','S18','S17','S16','S15','S14','S13','S12','S11','S10','S9','S8','S7','S6','S5','E19','E18','E17','E16','E15','E14','E13','E12','E11','E10','E9','E8','E7','E6','E5','F19','F18','F17','F16','F15','F14','F13','F12','F11','F10','F9','F8','F7','F6','F5']\n",
    "ALL = imfile('I19')\n",
    "for element in files : \n",
    "    file = imfile(element)\n",
    "    ALL = pd.concat([file,ALL])\n",
    "ALL = ALL[::-1] # reverse the table \n",
    "ALL = np.array((ALL))\n",
    "[R,C] = ALL.shape\n",
    "help_column = []"
   ]
  },
  {
   "cell_type": "code",
   "execution_count": 196,
   "metadata": {},
   "outputs": [
    {
     "data": {
      "text/plain": [
       "(26583, 1)"
      ]
     },
     "execution_count": 196,
     "metadata": {},
     "output_type": "execute_result"
    }
   ],
   "source": [
    "i = 0\n",
    "for i in range(R) : \n",
    "    i = i + 1\n",
    "    help_column.append(i)\n",
    "help_columns = flat(help_column)\n",
    "help_columns.shape"
   ]
  },
  {
   "cell_type": "markdown",
   "metadata": {},
   "source": [
    "# CREATING FORM FUNCTION WHICH ANALYZE THE FORM FROM LAST 7 MATCHES FOR EACH TEAM"
   ]
  },
  {
   "cell_type": "code",
   "execution_count": 197,
   "metadata": {},
   "outputs": [],
   "source": [
    "def form(team,start) :\n",
    "    ph = 0\n",
    "    x = 0\n",
    "    for row in ALL[start:] :\n",
    "        if x == 7 : \n",
    "            break\n",
    "        if row[0] == team :\n",
    "            x = x + 1\n",
    "            if row[4] == 'H' : \n",
    "                ph = ph + 3\n",
    "            if row[4] == 'D' :\n",
    "                ph = ph + 1\n",
    "            if row[4] == 'A' :\n",
    "                ph = ph\n",
    "        elif row[1] == team :\n",
    "            x = x + 1\n",
    "            if row[4] == 'A' :\n",
    "                ph = ph + 3\n",
    "            if row[4] == 'D' : \n",
    "                ph = ph + 1\n",
    "            if row[4] == 'H' : \n",
    "                ph = ph\n",
    "    return ph/21"
   ]
  },
  {
   "cell_type": "markdown",
   "metadata": {},
   "source": [
    "# AVERAGE ACCURACY FROM LAST 10 MATCHES"
   ]
  },
  {
   "cell_type": "code",
   "execution_count": 198,
   "metadata": {},
   "outputs": [],
   "source": [
    "def accuracy(team, start) :\n",
    "    accuracy = 0\n",
    "    counter = 0\n",
    "    for row in ALL[start:] :\n",
    "        if counter == 10 :\n",
    "            break\n",
    "        if row[0] == team : \n",
    "            counter = counter + 1\n",
    "            shots = row[5]\n",
    "            ontarget = row[7]\n",
    "            if ontarget == 0 : \n",
    "                acc = 0 \n",
    "            else :\n",
    "                acc = shots / ontarget\n",
    "            accuracy = accuracy + acc\n",
    "        elif row[1] == team : \n",
    "            counter = counter + 1 \n",
    "            shots = row[6]\n",
    "            ontarget = row[8]\n",
    "            if ontarget == 0 : \n",
    "                acc = 0 \n",
    "            else :\n",
    "                acc = shots / ontarget\n",
    "            accuracy = accuracy + acc\n",
    "    return accuracy"
   ]
  },
  {
   "cell_type": "markdown",
   "metadata": {},
   "source": [
    "# HOW MANY DRAWS, WINS, LOSES HAD TEAM IN LAST 10 MATCHES"
   ]
  },
  {
   "cell_type": "code",
   "execution_count": 199,
   "metadata": {},
   "outputs": [],
   "source": [
    "def score(team, start, result) :\n",
    "    counter = 0\n",
    "    results = 0\n",
    "    for row in ALL[start:] :\n",
    "        if counter == 10 :\n",
    "            break\n",
    "        if row[0] == team :\n",
    "            counter = counter + 1\n",
    "            if row[4] == result :\n",
    "                results = results + 1\n",
    "        elif row[1] == team : \n",
    "            counter = counter + 1 \n",
    "            if row[4] == result : \n",
    "                results = results + 1\n",
    "    return results\n",
    "                 "
   ]
  },
  {
   "cell_type": "markdown",
   "metadata": {},
   "source": [
    "# CARDS THAT TEAM IS SCORING AVERAGE IN LAST 15 MATCHES"
   ]
  },
  {
   "cell_type": "code",
   "execution_count": 200,
   "metadata": {},
   "outputs": [],
   "source": [
    "def yellows(team, start) : \n",
    "    counter = 0\n",
    "    cards = 0\n",
    "    for row in ALL[start:] : \n",
    "        if counter == 15 : \n",
    "            break \n",
    "        if row[0] == team : \n",
    "            counter = counter + 1\n",
    "            cards = cards + row[9] \n",
    "        elif row[1] == team : \n",
    "            counter = counter + 1 \n",
    "            cards = cards + row[10]\n",
    "    return cards / 15 \n",
    "def reds(team, start) : \n",
    "    counter = 0\n",
    "    cards = 0\n",
    "    for row in ALL[start:] : \n",
    "        if counter == 15 :\n",
    "            break \n",
    "        if row[0] == team : \n",
    "            counter = counter + 1\n",
    "            cards = cards + row[11] \n",
    "        elif row[1] == team : \n",
    "            counter = counter + 1 \n",
    "            cards = cards + row[12]\n",
    "    return cards / 15"
   ]
  },
  {
   "cell_type": "markdown",
   "metadata": {},
   "source": [
    "# AVERAGE NUMBER OF GOALS FROM LAST 15 MATCHES"
   ]
  },
  {
   "cell_type": "code",
   "execution_count": 201,
   "metadata": {},
   "outputs": [],
   "source": [
    "def goals(team, start) : \n",
    "    counter = 0 \n",
    "    goals = 0 \n",
    "    for row in ALL[start:] :\n",
    "        if counter == 15 : \n",
    "            break\n",
    "        if row[0] == team : \n",
    "            counter = counter + 1\n",
    "            goals = goals + row[2]\n",
    "        if row[1] == team : \n",
    "            counter = counter + 1\n",
    "            goals = goals + row[3]\n",
    "    return goals / 15"
   ]
  },
  {
   "cell_type": "markdown",
   "metadata": {},
   "source": [
    "# CREATING FEATURES"
   ]
  },
  {
   "cell_type": "code",
   "execution_count": 202,
   "metadata": {},
   "outputs": [],
   "source": [
    "hf = [] # home form\n",
    "ha = [] # home accuracy\n",
    "hw = [] # home wins\n",
    "hd = [] # home draws\n",
    "hl = [] # home loses\n",
    "hy = [] # home yellow cards\n",
    "hr = [] # home red cards\n",
    "hg = [] # home goals\n",
    "af = [] # same as above but for away team\n",
    "aa = [] \n",
    "aw = []\n",
    "ad = [] \n",
    "al = []\n",
    "ay = []\n",
    "ar = []\n",
    "ag = []\n",
    "HOME = [ha,hw,hd,hl,hy,hr,hg]\n",
    "AWAY = [af,aa,aw,ad,al,ay,ar,ag]"
   ]
  },
  {
   "cell_type": "code",
   "execution_count": 203,
   "metadata": {},
   "outputs": [],
   "source": [
    "p = 0 # counter for a position in the for loop \n",
    "for row in ALL : \n",
    "    h = row[0] # name of home team\n",
    "    a = row[1] # name of away team\n",
    "    hf.append(form(h,p))\n",
    "    ha.append(accuracy(h,p))\n",
    "    hw.append(score(h,p,'H'))\n",
    "    hd.append(score(h,p,'D'))\n",
    "    hl.append(score(h,p,'A'))\n",
    "    hy.append(yellows(h,p))\n",
    "    hr.append(reds(h,p))\n",
    "    hg.append(goals(h,p))\n",
    "    p = p + 1"
   ]
  },
  {
   "cell_type": "code",
   "execution_count": 204,
   "metadata": {},
   "outputs": [],
   "source": [
    "p = 0 \n",
    "for row in ALL : \n",
    "    h = row[0]\n",
    "    a = row[1]\n",
    "    af.append(form(a,p))\n",
    "    aa.append(accuracy(a,p))\n",
    "    aw.append(score(a,p,'H'))\n",
    "    ad.append(score(a,p,'D'))\n",
    "    al.append(score(a,p,'A'))\n",
    "    ay.append(yellows(a,p))\n",
    "    ar.append(reds(a,p))\n",
    "    ag.append(goals(a,p))\n",
    "    p = p + 1"
   ]
  },
  {
   "cell_type": "markdown",
   "metadata": {},
   "source": [
    "# TURN FEATURES INTO NUMPY AND STACK THEM TOGETHER\n"
   ]
  },
  {
   "cell_type": "code",
   "execution_count": 205,
   "metadata": {},
   "outputs": [],
   "source": [
    "feature = flat(hf)\n",
    "for element in HOME : \n",
    "    new = flat(element)\n",
    "    feature = np.hstack((feature,new))\n",
    "for element in AWAY : \n",
    "    new = flat(element)\n",
    "    feature = np.hstack((feature,new))"
   ]
  },
  {
   "cell_type": "markdown",
   "metadata": {},
   "source": [
    "# PREPARING DATA FOR MACHINE LOGISTIC REGRESSION"
   ]
  },
  {
   "cell_type": "code",
   "execution_count": 217,
   "metadata": {},
   "outputs": [],
   "source": [
    "# 1 ODDS HOME, ODDS DRAW, ODDS AWAY, HOME FORM, HOME ACCURACY, HOME WINS,DRAWS,LOSES, HOME YELLOWS, HOME REDS\n",
    "ODDS = ALL[:,[13,15,14,4]]\n",
    "X = np.hstack((ODDS,feature))\n",
    "X = np.hstack((X, help_columns))\n",
    "X = pd.DataFrame((X))\n",
    "X = X.dropna()\n",
    "y = X[3]\n",
    "num = X[20]\n",
    "X = X.drop(3,axis = 1)\n",
    "X = X.drop(20, axis = 1)"
   ]
  },
  {
   "cell_type": "code",
   "execution_count": 218,
   "metadata": {},
   "outputs": [],
   "source": [
    "X.to_csv(r'C:\\Users\\macie\\Documents\\X.csv', index = True)\n",
    "y.to_csv(r'C:\\Users\\macie\\Documents\\y.csv', index = True)\n",
    "num.to_csv(r'C:\\Users\\macie\\Documents\\num.csv', index = True)"
   ]
  },
  {
   "cell_type": "code",
   "execution_count": 207,
   "metadata": {},
   "outputs": [],
   "source": [
    "X = np.array((X))\n",
    "[r,c] = X.shape\n",
    "for i in range(c) :\n",
    "    X[:,i] = preprocessing.scale(X[:,i])\n",
    "X = X.astype(float)"
   ]
  },
  {
   "cell_type": "code",
   "execution_count": 208,
   "metadata": {},
   "outputs": [],
   "source": [
    "num = num - 1\n",
    "num = np.asarray(num)"
   ]
  },
  {
   "cell_type": "markdown",
   "metadata": {},
   "source": [
    "# SPLITTING THE DATA"
   ]
  },
  {
   "cell_type": "code",
   "execution_count": 209,
   "metadata": {},
   "outputs": [],
   "source": [
    "X_train, X_test, y_train, y_test = train_test_split(X, y, train_size=0.70,test_size=0.30, random_state=101)"
   ]
  },
  {
   "cell_type": "markdown",
   "metadata": {},
   "source": [
    "# PERFORMING LOGISTIC REGRESSION"
   ]
  },
  {
   "cell_type": "code",
   "execution_count": 210,
   "metadata": {},
   "outputs": [
    {
     "data": {
      "text/plain": [
       "LogisticRegression(C=1.0, class_weight=None, dual=False, fit_intercept=True,\n",
       "                   intercept_scaling=1, l1_ratio=None, max_iter=100,\n",
       "                   multi_class='auto', n_jobs=None, penalty='l2',\n",
       "                   random_state=None, solver='lbfgs', tol=0.0001, verbose=0,\n",
       "                   warm_start=False)"
      ]
     },
     "execution_count": 210,
     "metadata": {},
     "output_type": "execute_result"
    }
   ],
   "source": [
    "log_reg = LogisticRegression()\n",
    "log_reg.fit(X_train, y_train)"
   ]
  },
  {
   "cell_type": "code",
   "execution_count": 211,
   "metadata": {},
   "outputs": [],
   "source": [
    "y_pred = log_reg.predict(X_test)"
   ]
  },
  {
   "cell_type": "markdown",
   "metadata": {},
   "source": [
    "# THE ACCURACY OF THE MODEL"
   ]
  },
  {
   "cell_type": "code",
   "execution_count": 212,
   "metadata": {
    "scrolled": true
   },
   "outputs": [
    {
     "data": {
      "text/plain": [
       "0.7109088610795096"
      ]
     },
     "execution_count": 212,
     "metadata": {},
     "output_type": "execute_result"
    }
   ],
   "source": [
    "score = log_reg.score(X_test, y_test)\n",
    "score"
   ]
  },
  {
   "cell_type": "markdown",
   "metadata": {},
   "source": [
    "# CHECKING THE RESULTS ON A 10 TEST MATCHES"
   ]
  },
  {
   "cell_type": "code",
   "execution_count": 213,
   "metadata": {},
   "outputs": [],
   "source": [
    "r,c = X_train.shape\n",
    "y_test = np.array((y_test))\n",
    "j = 0"
   ]
  },
  {
   "cell_type": "code",
   "execution_count": 220,
   "metadata": {},
   "outputs": [
    {
     "name": "stdout",
     "output_type": "stream",
     "text": [
      "Match : Man United - Stoke, Prediction : H Actual result : H CORRECT\n",
      "Match : Everton - Man City, Prediction : A Actual result : A CORRECT\n",
      "Match : Man City - Tottenham, Prediction : A Actual result : A CORRECT\n",
      "Match : Arsenal - Man United, Prediction : A Actual result : H INCORRECT\n",
      "Match : Wolves - Aston Villa, Prediction : A Actual result : A CORRECT\n",
      "Match : Sunderland - Swansea, Prediction : H Actual result : H CORRECT\n",
      "Match : Stoke - West Brom, Prediction : A Actual result : D INCORRECT\n",
      "Match : QPR - Wigan, Prediction : H Actual result : H CORRECT\n",
      "Match : Norwich - Chelsea, Prediction : H Actual result : D INCORRECT\n",
      "Match : Fulham - Newcastle, Prediction : D Actual result : D CORRECT\n"
     ]
    }
   ],
   "source": [
    "for i in range(10) : \n",
    "    j = j + 1\n",
    "    position = int(num[r+j])\n",
    "    home = ALL[position, 0]\n",
    "    away = ALL[position, 1]\n",
    "    pred = y_pred[j]\n",
    "    res = y_test[j]\n",
    "    if pred == res : \n",
    "        info = 'CORRECT'\n",
    "    else : \n",
    "        info = 'INCORRECT'\n",
    "    print('Match : {} - {}, Prediction : {} Actual result : {} {}'.format(home,away,pred,res,info))"
   ]
  }
 ],
 "metadata": {
  "kernelspec": {
   "display_name": "Python 3",
   "language": "python",
   "name": "python3"
  },
  "language_info": {
   "codemirror_mode": {
    "name": "ipython",
    "version": 3
   },
   "file_extension": ".py",
   "mimetype": "text/x-python",
   "name": "python",
   "nbconvert_exporter": "python",
   "pygments_lexer": "ipython3",
   "version": "3.7.6"
  }
 },
 "nbformat": 4,
 "nbformat_minor": 2
}
